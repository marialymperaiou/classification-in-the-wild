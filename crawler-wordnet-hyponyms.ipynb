{
 "cells": [
  {
   "cell_type": "markdown",
   "id": "4f0b6412",
   "metadata": {
    "papermill": {
     "duration": 0.008818,
     "end_time": "2023-02-28T07:58:43.457194",
     "exception": false,
     "start_time": "2023-02-28T07:58:43.448376",
     "status": "completed"
    },
    "tags": []
   },
   "source": [
    "# Crawl Google search Images\n",
    "by picking a keyword + get its hyponyms"
   ]
  },
  {
   "cell_type": "code",
   "execution_count": 1,
   "id": "16ea1814",
   "metadata": {
    "execution": {
     "iopub.execute_input": "2023-02-28T07:58:43.479104Z",
     "iopub.status.busy": "2023-02-28T07:58:43.478183Z",
     "iopub.status.idle": "2023-02-28T07:58:52.836612Z",
     "shell.execute_reply": "2023-02-28T07:58:52.835719Z",
     "shell.execute_reply.started": "2023-01-10T14:53:26.804619Z"
    },
    "papermill": {
     "duration": 9.369712,
     "end_time": "2023-02-28T07:58:52.836765",
     "exception": false,
     "start_time": "2023-02-28T07:58:43.467053",
     "status": "completed"
    },
    "tags": []
   },
   "outputs": [
    {
     "name": "stdout",
     "output_type": "stream",
     "text": [
      "Collecting icrawler==0.6.6\r\n",
      "  Downloading icrawler-0.6.6-py2.py3-none-any.whl (35 kB)\r\n",
      "Requirement already satisfied: requests>=2.9.1 in /opt/conda/lib/python3.7/site-packages (from icrawler==0.6.6) (2.26.0)\r\n",
      "Requirement already satisfied: six>=1.10.0 in /opt/conda/lib/python3.7/site-packages (from icrawler==0.6.6) (1.16.0)\r\n",
      "Requirement already satisfied: lxml in /opt/conda/lib/python3.7/site-packages (from icrawler==0.6.6) (4.7.1)\r\n",
      "Requirement already satisfied: Pillow in /opt/conda/lib/python3.7/site-packages (from icrawler==0.6.6) (8.2.0)\r\n",
      "Requirement already satisfied: beautifulsoup4>=4.4.1 in /opt/conda/lib/python3.7/site-packages (from icrawler==0.6.6) (4.10.0)\r\n",
      "Requirement already satisfied: soupsieve>1.2 in /opt/conda/lib/python3.7/site-packages (from beautifulsoup4>=4.4.1->icrawler==0.6.6) (2.3.1)\r\n",
      "Requirement already satisfied: urllib3<1.27,>=1.21.1 in /opt/conda/lib/python3.7/site-packages (from requests>=2.9.1->icrawler==0.6.6) (1.26.7)\r\n",
      "Requirement already satisfied: certifi>=2017.4.17 in /opt/conda/lib/python3.7/site-packages (from requests>=2.9.1->icrawler==0.6.6) (2021.10.8)\r\n",
      "Requirement already satisfied: charset-normalizer~=2.0.0 in /opt/conda/lib/python3.7/site-packages (from requests>=2.9.1->icrawler==0.6.6) (2.0.9)\r\n",
      "Requirement already satisfied: idna<4,>=2.5 in /opt/conda/lib/python3.7/site-packages (from requests>=2.9.1->icrawler==0.6.6) (3.1)\r\n",
      "Installing collected packages: icrawler\r\n",
      "Successfully installed icrawler-0.6.6\r\n",
      "\u001b[33mWARNING: Running pip as the 'root' user can result in broken permissions and conflicting behaviour with the system package manager. It is recommended to use a virtual environment instead: https://pip.pypa.io/warnings/venv\u001b[0m\r\n"
     ]
    }
   ],
   "source": [
    "! pip install icrawler==0.6.6"
   ]
  },
  {
   "cell_type": "code",
   "execution_count": 2,
   "id": "f93b4c60",
   "metadata": {
    "_cell_guid": "b1076dfc-b9ad-4769-8c92-a6c4dae69d19",
    "_uuid": "8f2839f25d086af736a60e9eeb907d3b93b6e0e5",
    "execution": {
     "iopub.execute_input": "2023-02-28T07:58:52.861756Z",
     "iopub.status.busy": "2023-02-28T07:58:52.861093Z",
     "iopub.status.idle": "2023-02-28T07:58:54.634606Z",
     "shell.execute_reply": "2023-02-28T07:58:54.633975Z",
     "shell.execute_reply.started": "2023-01-10T14:53:38.514878Z"
    },
    "papermill": {
     "duration": 1.788123,
     "end_time": "2023-02-28T07:58:54.634728",
     "exception": false,
     "start_time": "2023-02-28T07:58:52.846605",
     "status": "completed"
    },
    "tags": []
   },
   "outputs": [],
   "source": [
    "import numpy as np \n",
    "import pandas as pd \n",
    "import os\n",
    "from nltk.corpus import wordnet as wn\n",
    "from icrawler.builtin import GoogleImageCrawler\n",
    "import shutil\n",
    "from datetime import date"
   ]
  },
  {
   "cell_type": "code",
   "execution_count": 3,
   "id": "6589c723",
   "metadata": {
    "execution": {
     "iopub.execute_input": "2023-02-28T07:58:54.657758Z",
     "iopub.status.busy": "2023-02-28T07:58:54.657186Z",
     "iopub.status.idle": "2023-02-28T07:58:54.666568Z",
     "shell.execute_reply": "2023-02-28T07:58:54.666051Z",
     "shell.execute_reply.started": "2023-01-10T14:53:38.740576Z"
    },
    "papermill": {
     "duration": 0.022584,
     "end_time": "2023-02-28T07:58:54.666720",
     "exception": false,
     "start_time": "2023-02-28T07:58:54.644136",
     "status": "completed"
    },
    "tags": []
   },
   "outputs": [],
   "source": [
    "imagenet_classes_path='/kaggle/input/imagenet-synset-classes/' # insert your own here\n",
    "with open(imagenet_classes_path+'imagenet_synsets_classes.txt') as f:\n",
    "    lines = f.readlines()"
   ]
  },
  {
   "cell_type": "code",
   "execution_count": 4,
   "id": "a00a6d9d",
   "metadata": {
    "execution": {
     "iopub.execute_input": "2023-02-28T07:58:54.692783Z",
     "iopub.status.busy": "2023-02-28T07:58:54.691873Z",
     "iopub.status.idle": "2023-02-28T07:58:54.694778Z",
     "shell.execute_reply": "2023-02-28T07:58:54.695233Z",
     "shell.execute_reply.started": "2023-01-10T14:58:20.077483Z"
    },
    "papermill": {
     "duration": 0.018278,
     "end_time": "2023-02-28T07:58:54.695389",
     "exception": false,
     "start_time": "2023-02-28T07:58:54.677111",
     "status": "completed"
    },
    "tags": []
   },
   "outputs": [
    {
     "name": "stdout",
     "output_type": "stream",
     "text": [
      "['n02119789 1 kit_fox\\n', 'n02100735 2 English_setter\\n', 'n02110185 3 Siberian_husky\\n', 'n02096294 4 Australian_terrier\\n', 'n02102040 5 English_springer\\n', 'n02066245 6 grey_whale\\n', 'n02509815 7 lesser_panda\\n', 'n02124075 8 Egyptian_cat\\n', 'n02417914 9 ibex\\n', 'n02123394 10 Persian_cat\\n']\n"
     ]
    }
   ],
   "source": [
    "print(lines[0:10])"
   ]
  },
  {
   "cell_type": "markdown",
   "id": "e3f1ab43",
   "metadata": {
    "papermill": {
     "duration": 0.009576,
     "end_time": "2023-02-28T07:58:54.714811",
     "exception": false,
     "start_time": "2023-02-28T07:58:54.705235",
     "status": "completed"
    },
    "tags": []
   },
   "source": [
    "### Select keyword and find hyponyms"
   ]
  },
  {
   "cell_type": "code",
   "execution_count": 5,
   "id": "5ff97554",
   "metadata": {
    "execution": {
     "iopub.execute_input": "2023-02-28T07:58:54.741908Z",
     "iopub.status.busy": "2023-02-28T07:58:54.741313Z",
     "iopub.status.idle": "2023-02-28T07:58:56.413389Z",
     "shell.execute_reply": "2023-02-28T07:58:56.413833Z",
     "shell.execute_reply.started": "2023-01-10T14:53:38.758377Z"
    },
    "papermill": {
     "duration": 1.688615,
     "end_time": "2023-02-28T07:58:56.413984",
     "exception": false,
     "start_time": "2023-02-28T07:58:54.725369",
     "status": "completed"
    },
    "tags": []
   },
   "outputs": [
    {
     "name": "stdout",
     "output_type": "stream",
     "text": [
      "Synset('cat.n.01')\n",
      "['puma cat', \"pallas's cat\", 'serval cat', 'egyptian cat', 'painter cat', 'siamese cat', 'felis serval cat', 'tabby cat', 'felis chaus cat', 'bay lynx cat', 'mouser cat', 'calico cat', 'eyra cat', 'persian cat', 'mountain lion cat', 'lynx lynx cat', 'gib cat', 'catamountain', 'felis domesticus cat', 'margay cat', 'puss cat', 'maltese cat', 'tom cat', 'wildcat', 'felis bengalensis cat', 'jaguarundi cat', 'leopard cat', 'felis tigrina cat', 'burmese cat', 'felis wiedi cat', 'canada lynx cat', 'manx cat', 'tortoiseshell cat', 'bobcat', 'queen cat', 'felis catus', 'felis manul cat', 'blue point siamese cat', 'abyssinian cat', 'pussy cat', 'panther cat', 'manul cat', 'domestic cat', 'tortoiseshell-cat', 'angora cat', 'common lynx cat', 'tomcat', 'lynx cat', 'european wildcat', 'jaguarondi cat', 'caracal cat', 'felis pardalis cat', 'alley cat', 'felis ocreata cat', 'kitty cat', 'sand cat', 'ocelot cat', 'felis yagouaroundi cat', 'desert lynx cat', 'lynx canadensis cat', 'felis concolor cat', 'cougar cat', 'house cat', 'jungle cat', 'lynx rufus cat', 'kaffir cat', 'kitty-cat', 'lynx caracal cat', 'catamount', 'caffer cat', 'pussycat', 'spotted lynx cat', 'felis silvestris cat', 'tiger cat', 'lynx pardina cat']\n",
      "75\n"
     ]
    }
   ],
   "source": [
    "pick = 'cat'                                 # you can add another keyword here\n",
    "wn_pick = wn.synsets(pick, pos=wn.NOUN)[0]   # find the first WordNet synset of the picked keyword\n",
    "print(wn_pick)\n",
    "    \n",
    "# get all hyponyms of selected keyword (hyponyms of any depth)\n",
    "pick_hypo = list(set([w for s in wn_pick.closure(lambda s:s.hyponyms()) for w in s.lemma_names()]))\n",
    "c = [i.replace(\"_\", \" \").lower() for i in pick_hypo]\n",
    "\n",
    "# add the picked keyword (e.g. cat) to disambiguate classes\n",
    "wordnet_classes = list(set([i+' '+pick if pick not in i else i for i in c]))\n",
    "print(wordnet_classes)\n",
    "print(len(wordnet_classes))"
   ]
  },
  {
   "cell_type": "markdown",
   "id": "cede2400",
   "metadata": {
    "papermill": {
     "duration": 0.009892,
     "end_time": "2023-02-28T07:58:56.433863",
     "exception": false,
     "start_time": "2023-02-28T07:58:56.423971",
     "status": "completed"
    },
    "tags": []
   },
   "source": [
    "### Filter out hyponyms not belonging to ImageNet class labels"
   ]
  },
  {
   "cell_type": "code",
   "execution_count": 6,
   "id": "a0b92305",
   "metadata": {
    "execution": {
     "iopub.execute_input": "2023-02-28T07:58:56.457557Z",
     "iopub.status.busy": "2023-02-28T07:58:56.456829Z",
     "iopub.status.idle": "2023-02-28T07:58:56.469004Z",
     "shell.execute_reply": "2023-02-28T07:58:56.468496Z",
     "shell.execute_reply.started": "2023-01-10T14:55:13.714096Z"
    },
    "papermill": {
     "duration": 0.024986,
     "end_time": "2023-02-28T07:58:56.469150",
     "exception": false,
     "start_time": "2023-02-28T07:58:56.444164",
     "status": "completed"
    },
    "tags": []
   },
   "outputs": [
    {
     "name": "stdout",
     "output_type": "stream",
     "text": [
      "11\n",
      "['egyptian cat', 'persian cat', 'cougar cat', 'tiger cat', 'tiger cat', 'leopard cat', 'siamese cat', 'angora cat', 'tabby cat', 'lynx cat', 'cat']\n"
     ]
    }
   ],
   "source": [
    "wordnet_imagenet_classes = []\n",
    "all_imagenet_classes = []\n",
    "for item in lines:\n",
    "    imagenet_class = item.split(' ')[2]   # according to the .txt format, the last entry is the class name\n",
    "    imagenet_class = imagenet_class.replace('_', ' ').lower().rstrip()\n",
    "    all_imagenet_classes.append(imagenet_class)    \n",
    "\n",
    "# let's keep the intersection between ImageNet and WordNet hyponyms\n",
    "for imagenet_class in all_imagenet_classes:\n",
    "    # is ImageNet class also a WordNet hyponym of the selected keyword?\n",
    "    if (imagenet_class+' cat' in wordnet_classes):\n",
    "        wordnet_imagenet_classes.append(imagenet_class+' cat')\n",
    "    elif (imagenet_class in wordnet_classes):\n",
    "        wordnet_imagenet_classes.append(imagenet_class)\n",
    "wordnet_imagenet_classes.append(pick)\n",
    "\n",
    "# those are the final classes for classification\n",
    "print(len(wordnet_imagenet_classes))\n",
    "print(wordnet_imagenet_classes)"
   ]
  },
  {
   "cell_type": "markdown",
   "id": "5f2b5149",
   "metadata": {
    "papermill": {
     "duration": 0.009896,
     "end_time": "2023-02-28T07:58:56.489370",
     "exception": false,
     "start_time": "2023-02-28T07:58:56.479474",
     "status": "completed"
    },
    "tags": []
   },
   "source": [
    "### Gather web images"
   ]
  },
  {
   "cell_type": "code",
   "execution_count": 7,
   "id": "aae0575a",
   "metadata": {
    "execution": {
     "iopub.execute_input": "2023-02-28T07:58:56.515109Z",
     "iopub.status.busy": "2023-02-28T07:58:56.514554Z",
     "iopub.status.idle": "2023-02-28T07:58:56.517376Z",
     "shell.execute_reply": "2023-02-28T07:58:56.517910Z",
     "shell.execute_reply.started": "2023-01-10T14:53:15.132704Z"
    },
    "papermill": {
     "duration": 0.018615,
     "end_time": "2023-02-28T07:58:56.518115",
     "exception": false,
     "start_time": "2023-02-28T07:58:56.499500",
     "status": "completed"
    },
    "tags": []
   },
   "outputs": [],
   "source": [
    "def crawl_images(class_name, dir_name):\n",
    "    filters = dict(date=((2005, 1, 1), (2023, 1, 1)))\n",
    "    google_crawler = GoogleImageCrawler(storage={'root_dir': dir_name})\n",
    "    google_crawler.crawl(class_name, max_num=50)\n",
    "\n",
    "    return"
   ]
  },
  {
   "cell_type": "code",
   "execution_count": 8,
   "id": "7a1d2f11",
   "metadata": {
    "execution": {
     "iopub.execute_input": "2023-02-28T07:58:56.542459Z",
     "iopub.status.busy": "2023-02-28T07:58:56.541793Z",
     "iopub.status.idle": "2023-02-28T08:04:00.694937Z",
     "shell.execute_reply": "2023-02-28T08:04:00.695379Z"
    },
    "papermill": {
     "duration": 304.166694,
     "end_time": "2023-02-28T08:04:00.695527",
     "exception": false,
     "start_time": "2023-02-28T07:58:56.528833",
     "status": "completed"
    },
    "tags": []
   },
   "outputs": [
    {
     "name": "stdout",
     "output_type": "stream",
     "text": [
      "egyptian cat\n",
      "persian cat\n",
      "cougar cat\n",
      "tiger cat\n",
      "tiger cat\n",
      "leopard cat\n",
      "siamese cat\n",
      "angora cat\n",
      "tabby cat\n",
      "lynx cat\n",
      "cat\n"
     ]
    },
    {
     "data": {
      "text/plain": [
       "'/kaggle/working/crawl_data_cat.zip'"
      ]
     },
     "execution_count": 8,
     "metadata": {},
     "output_type": "execute_result"
    }
   ],
   "source": [
    "# crawl images for keyword+hyponyms\n",
    "for class_name in wordnet_imagenet_classes:\n",
    "    print(class_name)\n",
    "    crawl_images(class_name, class_name)\n",
    "    #print(len([name for name in os.listdir('./'+class_name)]))\n",
    "    \n",
    "# store images in .zip\n",
    "shutil.make_archive('crawl_data_'+pick, 'zip', './')"
   ]
  }
 ],
 "metadata": {
  "kernelspec": {
   "display_name": "Python 3",
   "language": "python",
   "name": "python3"
  },
  "language_info": {
   "codemirror_mode": {
    "name": "ipython",
    "version": 3
   },
   "file_extension": ".py",
   "mimetype": "text/x-python",
   "name": "python",
   "nbconvert_exporter": "python",
   "pygments_lexer": "ipython3",
   "version": "3.7.12"
  },
  "papermill": {
   "default_parameters": {},
   "duration": 327.403322,
   "end_time": "2023-02-28T08:04:01.721478",
   "environment_variables": {},
   "exception": null,
   "input_path": "__notebook__.ipynb",
   "output_path": "__notebook__.ipynb",
   "parameters": {},
   "start_time": "2023-02-28T07:58:34.318156",
   "version": "2.3.3"
  }
 },
 "nbformat": 4,
 "nbformat_minor": 5
}
